{
 "cells": [
  {
   "cell_type": "code",
   "execution_count": 5,
   "metadata": {
    "id": "gtlAv2oq9yzd"
   },
   "outputs": [],
   "source": [
    "#Write a Python program to find the sum of all elements in a list using loop.\n",
    "#Input:- [10,20,30,40]\n",
    "#Output:- 100\n",
    "\n",
    "#Ans1\n",
    "def sum_list(list1):\n",
    "    sum_of_list = 0\n",
    "    for i in list1:\n",
    "        sum_of_list = sum_of_list + i\n",
    "    print(sum_of_list)"
   ]
  },
  {
   "cell_type": "code",
   "execution_count": null,
   "metadata": {},
   "outputs": [],
   "source": [
    "\n",
    "#Ans2\n",
    "\n",
    "# Input list\n",
    "numbers = [10, 20, 30, 40]\n",
    "\n",
    "# Initialize a variable to store the sum\n",
    "sum_of_elements = 0\n",
    "\n",
    "# Loop through the list and add each element to the sum\n",
    "for number in numbers:\n",
    "    sum_of_elements += number\n",
    "\n",
    "# Print the sum\n",
    "print(\"Sum of elements:\", sum_of_elements)\n"
   ]
  },
  {
   "cell_type": "code",
   "execution_count": 7,
   "metadata": {},
   "outputs": [
    {
     "name": "stdout",
     "output_type": "stream",
     "text": [
      "100\n"
     ]
    }
   ],
   "source": [
    "sum_list([10,20,30,40])"
   ]
  },
  {
   "cell_type": "code",
   "execution_count": 24,
   "metadata": {
    "id": "gTbA8psa93Y_"
   },
   "outputs": [],
   "source": [
    "#Write a Python program to find the multiplication of all elements in a list using loop.\n",
    "#Input:- [10,20,30,40]\n",
    "#Output:- 240000\n",
    "\n",
    "#Ans1\n",
    "\n",
    "def mult_list(list1):\n",
    "    mult_of_list = 1\n",
    "    for i in list1:\n",
    "        mult_of_list = mult_of_list * i\n",
    "    print(mult_of_list)\n"
   ]
  },
  {
   "cell_type": "code",
   "execution_count": null,
   "metadata": {},
   "outputs": [],
   "source": [
    "\n",
    "#Ans2\n",
    "\n",
    "# Input list\n",
    "numbers = [10, 20, 30, 40]\n",
    "\n",
    "# Initialize a variable to store the product\n",
    "product_of_elements = 1  # Initialize to 1 to ensure the first element is multiplied correctly\n",
    "\n",
    "# Loop through the list and multiply each element with the product\n",
    "for number in numbers:\n",
    "    product_of_elements *= number\n",
    "\n",
    "# Print the product\n",
    "print(\"Multiplication of elements:\", product_of_elements)\n"
   ]
  },
  {
   "cell_type": "code",
   "execution_count": 25,
   "metadata": {},
   "outputs": [
    {
     "name": "stdout",
     "output_type": "stream",
     "text": [
      "240000\n"
     ]
    }
   ],
   "source": [
    "mult_list([10,20,30,40])"
   ]
  },
  {
   "cell_type": "code",
   "execution_count": 3,
   "metadata": {
    "id": "XBCrEtLN94Lj"
   },
   "outputs": [],
   "source": [
    "#Write a Python program to find the largest number from a list using loop.\n",
    "#Input:- [10,100,2321, 1,200,2]\n",
    "#Output:- 2321\n",
    "\n",
    "def largest_in_list(list2):\n",
    "    largest = list2[0]\n",
    "    for i in list2:\n",
    "        if i > largest:\n",
    "             largest= i\n",
    "    print(largest)\n",
    "    "
   ]
  },
  {
   "cell_type": "code",
   "execution_count": 40,
   "metadata": {},
   "outputs": [
    {
     "name": "stdout",
     "output_type": "stream",
     "text": [
      "Largest number: 2321\n"
     ]
    }
   ],
   "source": [
    "# Input list\n",
    "numbers = [10, 100, 2321, 1, 200, 2]\n",
    "\n",
    "# Initialize a variable to store the largest number\n",
    "largest = numbers[0]  # Initialize with the first element\n",
    "\n",
    "# Loop through the list to find the largest number\n",
    "for number in numbers:\n",
    "    if number > largest:\n",
    "        largest = number\n",
    "\n",
    "# Print the largest number\n",
    "print(\"Largest number:\", largest)\n"
   ]
  },
  {
   "cell_type": "code",
   "execution_count": 4,
   "metadata": {},
   "outputs": [
    {
     "name": "stdout",
     "output_type": "stream",
     "text": [
      "2321\n"
     ]
    }
   ],
   "source": [
    "largest_in_list([10,100,2321, 1,200,2])"
   ]
  },
  {
   "cell_type": "code",
   "execution_count": 1,
   "metadata": {
    "id": "l3paUtbH94Vw"
   },
   "outputs": [],
   "source": [
    "#Write a Python program to find the smallest number from a list using loop.\n",
    "#Input:- [10,100,2321, 1,200,2]\n",
    "#Output:- 1\n",
    "\n",
    "\n",
    "def smallest_in_list(list3):\n",
    "    smallest = list3[0]\n",
    "    for i in list3:\n",
    "        if i < smallest:\n",
    "            smallest = i\n",
    "    print(smallest)"
   ]
  },
  {
   "cell_type": "code",
   "execution_count": 2,
   "metadata": {},
   "outputs": [
    {
     "name": "stdout",
     "output_type": "stream",
     "text": [
      "1\n"
     ]
    }
   ],
   "source": [
    "smallest_in_list([10,100,2321, 1,200,2])"
   ]
  },
  {
   "cell_type": "code",
   "execution_count": 11,
   "metadata": {
    "id": "JTVgy5VD94cE"
   },
   "outputs": [
    {
     "name": "stdout",
     "output_type": "stream",
     "text": [
      "2\n"
     ]
    }
   ],
   "source": [
    "#Write a Python program to count the number of strings having length more than 2 and are palindrome in a list using loop.\n",
    "#Input:- ['ab', 'abc', 'aba', 'xyz', '1991']\n",
    "#Output:- 2\n",
    "\n",
    "\n",
    "List4 = ['ab', 'abc', 'aba', 'xyz', '1991']\n",
    "\n",
    "count = 0\n",
    "\n",
    "for i in List4:\n",
    "    if len(i) >2 and i == i[::-1]:\n",
    "        count = count +1\n",
    "print(count)"
   ]
  },
  {
   "cell_type": "code",
   "execution_count": 24,
   "metadata": {
    "id": "xs-ZGJbJ94gr"
   },
   "outputs": [
    {
     "name": "stdout",
     "output_type": "stream",
     "text": [
      "[1, 2, 9, 10, 65, 80, 100, 298, 483, 9213, 49876]\n"
     ]
    }
   ],
   "source": [
    " #Write a Python program to sort a list in ascending order using loop.\n",
    "#Input:- [100,10,1,298,65,483,49876,2,80,9,9213]\n",
    "#Output:- [1,2,9,10,65,80,100,298,483,9213,49876]\n",
    "\n",
    "list5 = [100,10,1,298,65,483,49876,2,80,9,9213]\n",
    "    \n",
    "sorted_list = []\n",
    "\n",
    "for i in list5:\n",
    "    for j in range(len(sorted_list)):\n",
    "            if i < sorted_list[j]:\n",
    "                sorted_list.insert(j, i)\n",
    "                break\n",
    "    else:\n",
    "        sorted_list.append(i)\n",
    "           \n",
    "print(sorted_list)"
   ]
  },
  {
   "cell_type": "code",
   "execution_count": 15,
   "metadata": {},
   "outputs": [
    {
     "name": "stdout",
     "output_type": "stream",
     "text": [
      "Sorted numbers in ascending order: [1, 2, 9, 10, 65, 80, 100, 298, 483, 9213, 49876]\n"
     ]
    }
   ],
   "source": [
    "# Input list\n",
    "numbers = [100, 10, 1, 298, 65, 483, 49876, 2, 80, 9, 9213]\n",
    "\n",
    "# Initialize an empty list to store the sorted numbers\n",
    "sorted_numbers = []\n",
    "\n",
    "# Loop through the original list\n",
    "for number in numbers:\n",
    "    # Loop through the sorted list to find the appropriate position for the current number\n",
    "    for i in range(len(sorted_numbers)):\n",
    "        if number < sorted_numbers[i]:\n",
    "            sorted_numbers.insert(i, number)\n",
    "            break\n",
    "    else:\n",
    "        sorted_numbers.append(number)\n",
    "\n",
    "# Print the sorted list in ascending order\n",
    "print(\"Sorted numbers in ascending order:\", sorted_numbers)\n"
   ]
  },
  {
   "cell_type": "code",
   "execution_count": 31,
   "metadata": {
    "id": "VhKQJizZ94kg"
   },
   "outputs": [
    {
     "name": "stdout",
     "output_type": "stream",
     "text": [
      "[(5, 4), 3, (9, 1), 9, 5, 6]\n"
     ]
    }
   ],
   "source": [
    "# Write a Python program to get a sorted list in increasing order of last element in each tuple in a given list using loop.\n",
    "# #Input:- [(5,4),(9,1),(2,3),(5,9),(7,6),(5,5)]\n",
    "# #output:- [(9,1),(2,3),(5,4),(5,5),(7,6),(5,9)]\n",
    "\n",
    "# what is wrong in below code\n",
    "\n",
    "list6 = [(5,4),(9,1),(2,3),(5,9),(7,6),(5,5)]\n",
    "\n",
    "new_list2 = []\n",
    "\n",
    "for x,y in list6:\n",
    "    for a,b in new_list2:\n",
    "        if b < y:\n",
    "            new_list2.insert(b,y)\n",
    "            break\n",
    "    else:\n",
    "        new_list2.append((x,y))\n",
    "            \n",
    "print(new_list2)"
   ]
  },
  {
   "cell_type": "code",
   "execution_count": 28,
   "metadata": {},
   "outputs": [
    {
     "name": "stdout",
     "output_type": "stream",
     "text": [
      "[(5, 9), (7, 6), (5, 5), (5, 4), (2, 3), (9, 1)]\n",
      "[(9, 1), (2, 3), (5, 4), (5, 5), (7, 6), (5, 9)]\n"
     ]
    }
   ],
   "source": [
    "list6 = [(5, 4), (9, 1), (2, 3), (5, 9), (7, 6), (5, 5)]\n",
    "\n",
    "new_list2 = []\n",
    "\n",
    "for x, y in list6:\n",
    "    inserted = False  # Flag to check if the tuple has been inserted\n",
    "    for i, (a, b) in enumerate(new_list2):\n",
    "        if b < y:\n",
    "            new_list2.insert(i, (x, y))\n",
    "            inserted = True\n",
    "            break  # Exit the loop once the tuple is inserted\n",
    "    if not inserted:\n",
    "        new_list2.append((x, y))  # If not inserted, append to the end\n",
    "\n",
    "print(new_list2)\n",
    "print(new_list2[::-1])"
   ]
  },
  {
   "cell_type": "code",
   "execution_count": 2,
   "metadata": {
    "id": "YJrCLYp694n_"
   },
   "outputs": [
    {
     "name": "stdout",
     "output_type": "stream",
     "text": [
      "[10, 1, 11, 29, 876, 768, 92]\n"
     ]
    }
   ],
   "source": [
    "# what is wrong in below code\n",
    "\n",
    "#Write a Python program to remove duplicate element from a list using loop.\n",
    "#Input:- [10,1,11,1,29,876,768,10,11,1,92,29,876]\n",
    "#Output:- [10,1,11,29,876,768,92]\n",
    "\n",
    "my_list = [10,1,11,1,29,876,768,10,11,1,92,29,876]\n",
    "new_list = []\n",
    "\n",
    "for i in my_list:\n",
    "    if i not in new_list:\n",
    "        new_list.append(i)\n",
    "print(new_list)"
   ]
  },
  {
   "cell_type": "code",
   "execution_count": 16,
   "metadata": {
    "id": "koYe4YCu94rh"
   },
   "outputs": [
    {
     "name": "stdout",
     "output_type": "stream",
     "text": [
      "List is empty\n"
     ]
    }
   ],
   "source": [
    "#Write a Python program to check a list is empty or not?\n",
    "#Input:- []\n",
    "#Output:- List is empty\n",
    "#Input:- [10,20,30]\n",
    "#Output:- List is not empty\n",
    "\n",
    "\n",
    "# Input list\n",
    "my_list = []  # Change this to any list to check if it's empty\n",
    "\n",
    "# Check if the list is empty\n",
    "if not my_list:\n",
    "    print(\"List is empty\")\n",
    "else:\n",
    "    print(\"List is not empty\")\n"
   ]
  },
  {
   "cell_type": "code",
   "execution_count": 17,
   "metadata": {
    "id": "mES1WANa94u5"
   },
   "outputs": [
    {
     "name": "stdout",
     "output_type": "stream",
     "text": [
      "[10, 10.2, (10+20j), 'Python', [10, 20], (10, 20)]\n"
     ]
    }
   ],
   "source": [
    "#Write a Python program to copy a list using loop.\n",
    "#inp_lst = [10,10.20,10+20j, 'Python', [10,20], (10,20)]\n",
    "#out_lst = [10,10.20,10+20j, 'Python', [10,20], (10,20)]\n",
    "\n",
    "\n",
    "my_list2 = [10,10.20,10+20j, 'Python', [10,20], (10,20)]\n",
    "new_list2 = []\n",
    "\n",
    "for i in my_list2:\n",
    "    new_list2.append(i)\n",
    "\n",
    "print(new_list2)"
   ]
  },
  {
   "cell_type": "code",
   "execution_count": 22,
   "metadata": {
    "id": "CpBh31WO94yi"
   },
   "outputs": [
    {
     "name": "stdout",
     "output_type": "stream",
     "text": [
      "['much', 'wood', 'would', 'woodchuck', 'chuck', 'could']\n"
     ]
    }
   ],
   "source": [
    "#Write a Python program to find the list of words that are longer than or equal to 4 from a given string.\n",
    "#Input:- 'How much wood would a woodchuck chuck if a woodchuck could chuck wood'\n",
    "#Output:- ['much', 'wood', 'would', 'woodchuck', 'chuck', 'could']\n",
    "#Note:- Duplicate should be avoided.\n",
    "\n",
    "\n",
    "my_string = 'How much wood would a woodchuck chuck if a woodchuck could chuck wood'\n",
    "word = my_string.split()\n",
    "new_list4 = []\n",
    "\n",
    "for i in word:    \n",
    "    if len(i) >= 4 and i not in new_list4:\n",
    "        new_list4.append(i)\n",
    "\n",
    "print(new_list4)\n"
   ]
  },
  {
   "cell_type": "code",
   "execution_count": 1,
   "metadata": {
    "id": "YVfj0fgZ9416"
   },
   "outputs": [
    {
     "name": "stdout",
     "output_type": "stream",
     "text": [
      "True\n"
     ]
    }
   ],
   "source": [
    "#Write a Python program which takes two list as input and returns True if they have at least 3 common elements.\n",
    "#inp_lst1 = [10,20,'Python', 10.20, 10+20j, [10,20,30], (10,20,30)]\n",
    "#inp_lst2 = [(10,20,30),1,20+3j,100.2, 10+20j, [10,20,30],'Python']\n",
    "#Output:- True\n",
    "\n",
    "my_input = [10,20,'Python', 10.20, 10+20j, [10,20,30], (10,20,30)]\n",
    "my_input2 = [(10,20,30),1,20+3j,100.2, 10+20j, [10,20,30],'Python']\n",
    "count = 0\n",
    "\n",
    "for i in my_input:\n",
    "    if i in my_input2:\n",
    "        count = count +1\n",
    "        if count==3:\n",
    "            print(True)\n",
    "            break\n",
    "        \n",
    "    "
   ]
  },
  {
   "cell_type": "code",
   "execution_count": null,
   "metadata": {
    "id": "7vwc3pjR945O"
   },
   "outputs": [],
   "source": [
    "#Write a Python program to create a 4X4 2D matrix with below elements using loop and list comprehension both.\n",
    "#Output:- [[0,0,0,0],[0,1,2,3],[0,2,4,6],[0,3,6,9]]\n",
    "\n",
    "\n"
   ]
  },
  {
   "cell_type": "code",
   "execution_count": null,
   "metadata": {
    "id": "Pxafor84948b"
   },
   "outputs": [],
   "source": [
    "#Write a Python program to create a 3X4X6 3D matrix with below elements using loop\n",
    "#Output:- \n",
    "# [\n",
    "#     [[0,0,0,0,0,0],[0,0,0,0,0,0],[0,0,0,0,0,0],[0,0,0,0,0,0]],\n",
    "#     [[0,0,0,0,0,0],[1,1,1,1,1,1],[2,2,2,2,2,2],[3,3,3,3,3,3]],\n",
    "#     [[0,0,0,0,0,0],[2,2,2,2,2,2],[4,4,4,4,4,4],[6,6,6,6,6,6]]\n",
    "# ]\n",
    "\n",
    "\n"
   ]
  },
  {
   "cell_type": "code",
   "execution_count": 23,
   "metadata": {
    "id": "lYNv8gk794_p"
   },
   "outputs": [
    {
     "name": "stdout",
     "output_type": "stream",
     "text": [
      "[21, 87, 45, 33, 1]\n"
     ]
    }
   ],
   "source": [
    "#Write a Python program which takes a list of numbers as input and prints a new list after removing even numbers from it.\n",
    "#Input:- [10,21,22,98,87,45,33,1,2,100]\n",
    "#Output:- [21,87,45,33,1]\n",
    "\n",
    "my_list5 = [10,21,22,98,87,45,33,1,2,100]\n",
    "new_list5 = []\n",
    "\n",
    "for i in my_list5:\n",
    "    if i not in new_list5 and i%2 != 0:\n",
    "        new_list5.append(i)\n",
    "\n",
    "print(new_list5)"
   ]
  },
  {
   "cell_type": "code",
   "execution_count": 26,
   "metadata": {
    "id": "3BaCb-rB95B7"
   },
   "outputs": [
    {
     "ename": "AttributeError",
     "evalue": "'list' object has no attribute 'random'",
     "output_type": "error",
     "traceback": [
      "\u001b[1;31m---------------------------------------------------------------------------\u001b[0m",
      "\u001b[1;31mAttributeError\u001b[0m                            Traceback (most recent call last)",
      "Cell \u001b[1;32mIn[26], line 12\u001b[0m\n\u001b[0;32m     10\u001b[0m     \u001b[38;5;28;01mif\u001b[39;00m i \u001b[38;5;129;01mnot\u001b[39;00m \u001b[38;5;129;01min\u001b[39;00m new_list6:\n\u001b[0;32m     11\u001b[0m         new_list6\u001b[38;5;241m.\u001b[39mappend(i)\n\u001b[1;32m---> 12\u001b[0m \u001b[38;5;28mprint\u001b[39m(new_list6\u001b[38;5;241m.\u001b[39mrandom)\n",
      "\u001b[1;31mAttributeError\u001b[0m: 'list' object has no attribute 'random'"
     ]
    }
   ],
   "source": [
    "#Write a Python program which takes a list from the user and prints it after reshuffling the elements of the list.\n",
    "#Input:- [10,21,22,98,87,45,33,1,2,100]\n",
    "#Output:- [1,87,21,10,33,2,100,45,98,22] (It may be any randon list but with same elements)\n",
    "\n",
    "import random\n",
    "\n",
    "my_list6 = [10,21,22,98,87,45,33,1,2,100]\n",
    "new_list6 = []\n",
    "\n",
    "for i in my_list6:\n",
    "    if i not in new_list6:\n",
    "        new_list6.append(i)\n",
    "print(new_list6.random)"
   ]
  },
  {
   "cell_type": "code",
   "execution_count": null,
   "metadata": {},
   "outputs": [],
   "source": []
  }
 ],
 "metadata": {
  "colab": {
   "name": "List_Assignment.ipynb",
   "provenance": []
  },
  "kernelspec": {
   "display_name": "Python 3 (ipykernel)",
   "language": "python",
   "name": "python3"
  },
  "language_info": {
   "codemirror_mode": {
    "name": "ipython",
    "version": 3
   },
   "file_extension": ".py",
   "mimetype": "text/x-python",
   "name": "python",
   "nbconvert_exporter": "python",
   "pygments_lexer": "ipython3",
   "version": "3.11.4"
  }
 },
 "nbformat": 4,
 "nbformat_minor": 1
}

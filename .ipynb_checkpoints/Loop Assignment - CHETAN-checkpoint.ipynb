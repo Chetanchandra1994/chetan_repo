{
 "cells": [
  {
   "cell_type": "code",
   "execution_count": 2,
   "id": "dcff05a2",
   "metadata": {},
   "outputs": [
    {
     "name": "stdout",
     "output_type": "stream",
     "text": [
      "55\n"
     ]
    }
   ],
   "source": [
    "# Loops - for loop, while loop\n",
    "# Q1. Write a Python program to find the length of the my_str using loop:-\n",
    "# Input:- 'Write a Python program to find the length of the my_str'\n",
    "# Output:- 55\n",
    "\n",
    "a = len('Write a Python program to find the length of the my_str')\n",
    "print(a)"
   ]
  },
  {
   "cell_type": "code",
   "execution_count": null,
   "id": "e3f88a23",
   "metadata": {},
   "outputs": [],
   "source": []
  },
  {
   "cell_type": "code",
   "execution_count": 2,
   "id": "a4e138cd",
   "metadata": {},
   "outputs": [
    {
     "name": "stdout",
     "output_type": "stream",
     "text": [
      "the length of my_str is : 55\n"
     ]
    }
   ],
   "source": [
    "#FOR LOOP\n",
    "\n",
    "my_str = 'Write a Python program to find the length of the my_str'\n",
    "\n",
    "#print(len(my_str))\n",
    "\n",
    "length =0  # Initialize length to 0\n",
    "\n",
    "# Iterate through the characters of the string using a FOR loop\n",
    "for x in my_str:\n",
    "    length = length+1\n",
    "    \n",
    "print(f\"the length of my_str is : {length}\")\n"
   ]
  },
  {
   "cell_type": "code",
   "execution_count": 27,
   "id": "8a48b2e4",
   "metadata": {},
   "outputs": [
    {
     "name": "stdout",
     "output_type": "stream",
     "text": [
      "The length of the string is: 55\n"
     ]
    }
   ],
   "source": [
    "#WHILE LOOP\n",
    "\n",
    "my_str = 'Write a Python program to find the length of the my_str'\n",
    "\n",
    "length = 0  # Initialize length to 0\n",
    "\n",
    "# Iterate through the characters of the string using a while loop\n",
    "while my_str:\n",
    "    length += 1  # Increment the length\n",
    "    my_str = my_str[1:]  # Remove the first character\n",
    "\n",
    "print(f\"The length of the string is: {length}\")\n"
   ]
  },
  {
   "cell_type": "code",
   "execution_count": null,
   "id": "66f22326",
   "metadata": {},
   "outputs": [],
   "source": []
  },
  {
   "cell_type": "code",
   "execution_count": 20,
   "id": "109949ec",
   "metadata": {},
   "outputs": [],
   "source": [
    "#my_str = 'Write a Python program to find the length of the my_str'"
   ]
  },
  {
   "cell_type": "code",
   "execution_count": 26,
   "id": "4a0a9d1e",
   "metadata": {},
   "outputs": [
    {
     "data": {
      "text/plain": [
       "'rite a Python program to find the length of the my_str'"
      ]
     },
     "execution_count": 26,
     "metadata": {},
     "output_type": "execute_result"
    }
   ],
   "source": [
    "#my_str[1:]"
   ]
  },
  {
   "cell_type": "code",
   "execution_count": 17,
   "id": "018db525",
   "metadata": {},
   "outputs": [],
   "source": [
    "#s1 = 'hello world'"
   ]
  },
  {
   "cell_type": "code",
   "execution_count": 19,
   "id": "be15c277",
   "metadata": {},
   "outputs": [
    {
     "data": {
      "text/plain": [
       "'e'"
      ]
     },
     "execution_count": 19,
     "metadata": {},
     "output_type": "execute_result"
    }
   ],
   "source": [
    "#s1[1:0:-1]"
   ]
  },
  {
   "cell_type": "code",
   "execution_count": 9,
   "id": "691fa92d",
   "metadata": {},
   "outputs": [
    {
     "ename": "SyntaxError",
     "evalue": "invalid syntax (958951424.py, line 1)",
     "output_type": "error",
     "traceback": [
      "\u001b[1;36m  Cell \u001b[1;32mIn[9], line 1\u001b[1;36m\u001b[0m\n\u001b[1;33m    Q2. Write a Python program to find the total number of times letter 'p'\u001b[0m\n\u001b[1;37m              ^\u001b[0m\n\u001b[1;31mSyntaxError\u001b[0m\u001b[1;31m:\u001b[0m invalid syntax\n"
     ]
    }
   ],
   "source": [
    "Q2. Write a Python program to find the total number of times letter 'p'\n",
    "is appeared in the below string using loop:-\n",
    "Input:- 'peter piper picked a peck of pickled peppers.\\n'\n",
    "Output:- 9"
   ]
  },
  {
   "cell_type": "code",
   "execution_count": 28,
   "id": "64fcd569",
   "metadata": {},
   "outputs": [
    {
     "name": "stdout",
     "output_type": "stream",
     "text": [
      "9\n"
     ]
    }
   ],
   "source": [
    "my_string = 'peter piper picked a peck of pickled peppers.\\n'\n",
    "\n",
    "count=0\n",
    "\n",
    "for i in my_string:\n",
    "    if i == 'p':\n",
    "        count = count+1\n",
    "print(count)\n",
    "        "
   ]
  },
  {
   "cell_type": "code",
   "execution_count": null,
   "id": "235f5ef1",
   "metadata": {},
   "outputs": [],
   "source": [
    "Q3. Write a Python Program, to print all the indexes of all occurences of\n",
    "letter 'p' appeared in the string using loop:-\n",
    "Input:- 'peter piper picked a peck of pickled peppers.'\n",
    "Output:-\n",
    "0\n",
    "6\n",
    "8\n",
    "12\n",
    "21\n",
    "29\n",
    "37\n",
    "39\n",
    "40"
   ]
  },
  {
   "cell_type": "code",
   "execution_count": 29,
   "id": "c3e8f08b",
   "metadata": {},
   "outputs": [
    {
     "data": {
      "text/plain": [
       "'p'"
      ]
     },
     "execution_count": 29,
     "metadata": {},
     "output_type": "execute_result"
    }
   ],
   "source": [
    "my_string1 = 'peter piper picked a peck of pickled peppers.'\n",
    "\n",
    "my_string1[0]"
   ]
  },
  {
   "cell_type": "code",
   "execution_count": 8,
   "id": "fd5e8e23",
   "metadata": {},
   "outputs": [
    {
     "data": {
      "text/plain": [
       "0"
      ]
     },
     "execution_count": 8,
     "metadata": {},
     "output_type": "execute_result"
    }
   ],
   "source": [
    "my_string1.index('p')"
   ]
  },
  {
   "cell_type": "code",
   "execution_count": 30,
   "id": "7b21400a",
   "metadata": {},
   "outputs": [
    {
     "name": "stdout",
     "output_type": "stream",
     "text": [
      "[0, 6, 8, 12, 21, 29, 37, 39, 40]\n"
     ]
    }
   ],
   "source": [
    "my_string1 = 'peter piper picked a peck of pickled peppers.'\n",
    "indexes = [i for i in range(len(my_string1)) if my_string1[i] == 'p']\n",
    "print(indexes)\n"
   ]
  },
  {
   "cell_type": "code",
   "execution_count": null,
   "id": "16270308",
   "metadata": {},
   "outputs": [],
   "source": [
    "\n"
   ]
  },
  {
   "cell_type": "code",
   "execution_count": null,
   "id": "bbb30c04",
   "metadata": {},
   "outputs": [],
   "source": [
    "Q4. Write a python program to find below output using loop:-\n",
    "Input:- 'peter piper picked a peck of pickled peppers.'\n",
    "Output:- ['peter', 'piper', 'picked', 'a', 'peck', 'of', 'pickled',\n",
    "'peppers']\n"
   ]
  },
  {
   "cell_type": "code",
   "execution_count": 31,
   "id": "542c35b0",
   "metadata": {},
   "outputs": [
    {
     "name": "stdout",
     "output_type": "stream",
     "text": [
      "['peter', 'piper', 'picked', 'a', 'peck', 'of', 'pickled', 'peppers']\n"
     ]
    }
   ],
   "source": [
    "input_str = 'peter piper picked a peck of pickled peppers.'\n",
    "\n",
    "# Initialize variables\n",
    "word = \"\"\n",
    "word_list = []\n",
    "is_word = False\n",
    "\n",
    "# Iterate through each character in the input string\n",
    "for char in input_str:\n",
    "    if char.isalnum():\n",
    "        # Append the character to the current word\n",
    "        word += char\n",
    "        is_word = True\n",
    "    else:\n",
    "        if is_word:\n",
    "            # If we were forming a word, add it to the list\n",
    "            word_list.append(word)\n",
    "            word = \"\"\n",
    "            is_word = False\n",
    "\n",
    "# Check if there's a word left after the loop\n",
    "if is_word:\n",
    "    word_list.append(word)\n",
    "\n",
    "# Print the list of words\n",
    "print(word_list)\n"
   ]
  },
  {
   "cell_type": "code",
   "execution_count": 36,
   "id": "56b74757",
   "metadata": {},
   "outputs": [
    {
     "name": "stdout",
     "output_type": "stream",
     "text": [
      "['p', 'e', 't', 'e', 'r', ' ', 'p', 'i', 'p', 'e', 'r', ' ', 'p', 'i', 'c', 'k', 'e', 'd', ' ', 'a', ' ', 'p', 'e', 'c', 'k', ' ', 'o', 'f', ' ', 'p', 'i', 'c', 'k', 'l', 'e', 'd', ' ', 'p', 'e', 'p', 'p', 'e', 'r', 's', '.']\n"
     ]
    }
   ],
   "source": [
    "input_str = 'peter piper picked a peck of pickled peppers.'\n",
    "#Output:- ['peter', 'piper', 'picked', 'a', 'peck', 'of', 'pickled',\n",
    "#'peppers']\n",
    "\n",
    "# Initialize variables\n",
    "\n",
    "word_list = []\n",
    "\n",
    "# Iterate through each character in the input string\n",
    "for char in input_str:\n",
    "    \n",
    "    word_list.append(char)      \n",
    "\n",
    "# Print the list of words\n",
    "print(word_list)\n"
   ]
  },
  {
   "cell_type": "code",
   "execution_count": null,
   "id": "ae25f90b",
   "metadata": {},
   "outputs": [],
   "source": [
    "\n"
   ]
  },
  {
   "cell_type": "code",
   "execution_count": null,
   "id": "190e40e6",
   "metadata": {},
   "outputs": [],
   "source": [
    "Q5. Write a python program to find below output using loop:-\n",
    "Input:- 'peter piper picked a peck of pickled peppers.'\n",
    "Output:- 'peppers pickled of peck a picked piper peter'"
   ]
  },
  {
   "cell_type": "code",
   "execution_count": 55,
   "id": "baab6073",
   "metadata": {},
   "outputs": [
    {
     "data": {
      "text/plain": [
       "'.sreppep delkcip fo kcep a dekcip repip retep'"
      ]
     },
     "execution_count": 55,
     "metadata": {},
     "output_type": "execute_result"
    }
   ],
   "source": [
    "s2 = 'peter piper picked a peck of pickled peppers.'\n",
    "s2[::-1]"
   ]
  },
  {
   "cell_type": "code",
   "execution_count": 56,
   "id": "30e9ecbf",
   "metadata": {},
   "outputs": [
    {
     "name": "stdout",
     "output_type": "stream",
     "text": [
      " peppers. pickled of peck a picked piper peter\n"
     ]
    }
   ],
   "source": [
    "out_str = ''\n",
    "temp_str = ''\n",
    "\n",
    "for i in s2[::-1]:\n",
    "    if i == ' ':\n",
    "        out_str  = out_str + ' ' + temp_str[::-1]\n",
    "        temp_str =''\n",
    "        \n",
    "    elif i != ' ':\n",
    "        temp_str = temp_str + i\n",
    "        \n",
    "out_str = out_str + ' ' + temp_str[::-1]\n",
    "print(out_str)"
   ]
  },
  {
   "cell_type": "code",
   "execution_count": null,
   "id": "4a24403f",
   "metadata": {},
   "outputs": [],
   "source": [
    "Q6. Write a python program to find below output using loop:-\n",
    "Input:- 'peter piper picked a peck of pickled peppers.'\n",
    "Output:- '.sreppep delkcip fo kcep a dekcip repip retep'"
   ]
  },
  {
   "cell_type": "code",
   "execution_count": 39,
   "id": "396eb5c6",
   "metadata": {},
   "outputs": [
    {
     "name": "stdout",
     "output_type": "stream",
     "text": [
      ".sreppep delkcip fo kcep a dekcip repip retep\n"
     ]
    }
   ],
   "source": [
    "str2 = 'peter piper picked a peck of pickled peppers.'\n",
    "\n",
    "print(str2[::-1])"
   ]
  },
  {
   "cell_type": "code",
   "execution_count": null,
   "id": "a7b57d85",
   "metadata": {},
   "outputs": [],
   "source": []
  },
  {
   "cell_type": "code",
   "execution_count": null,
   "id": "10dece7d",
   "metadata": {},
   "outputs": [],
   "source": [
    "Q7. Write a python program to find below output using loop:-\n",
    "Input:- 'peter piper picked a peck of pickled peppers.'\n",
    "Output:- 'retep repip dekcip a kcep fo delkcip sreppep'\n"
   ]
  },
  {
   "cell_type": "code",
   "execution_count": 40,
   "id": "33bb509e",
   "metadata": {},
   "outputs": [],
   "source": [
    "my_str = 'peter piper picked a peck of pickled peppers.'"
   ]
  },
  {
   "cell_type": "code",
   "execution_count": 42,
   "id": "86077c45",
   "metadata": {},
   "outputs": [
    {
     "data": {
      "text/plain": [
       "'.sreppep delkcip fo kcep a dekcip repip retep'"
      ]
     },
     "execution_count": 42,
     "metadata": {},
     "output_type": "execute_result"
    }
   ],
   "source": [
    "for i in range(len(my_str)):\n",
    "    if i == ' ':\n",
    "        my_str[]\n",
    "        "
   ]
  },
  {
   "cell_type": "code",
   "execution_count": null,
   "id": "4b03735f",
   "metadata": {},
   "outputs": [],
   "source": [
    "Q8. Write a python program to find below output using loop:-\n",
    "Input:- 'peter piper picked a peck of pickled peppers.'\n",
    "Output:- 'Peter Piper Picked A Peck Of Pickled Peppers'"
   ]
  },
  {
   "cell_type": "code",
   "execution_count": null,
   "id": "ecf42488",
   "metadata": {},
   "outputs": [],
   "source": []
  },
  {
   "cell_type": "code",
   "execution_count": null,
   "id": "d269127b",
   "metadata": {},
   "outputs": [],
   "source": [
    "Q9. Write a python program to find below output using loop:-\n",
    "Input:- 'Peter Piper Picked A Peck Of Pickled Peppers.'\n",
    "Output:- 'Peter piper picked a peck of pickled peppers'"
   ]
  },
  {
   "cell_type": "code",
   "execution_count": null,
   "id": "4e1b7b65",
   "metadata": {},
   "outputs": [],
   "source": []
  },
  {
   "cell_type": "code",
   "execution_count": null,
   "id": "440f81ee",
   "metadata": {},
   "outputs": [],
   "source": [
    "Q10. Write a python program to implement index method using loop. If\n",
    "sub_str is found in my_str then it will print the index\n",
    "of first occurrence of first character of matching string in my_str:-\n",
    "Input:- my_str = 'Peter Piper Picked A Peck Of Pickled Peppers.',\n",
    "sub_str = 'Pickl'\n",
    "Output:- 29"
   ]
  },
  {
   "cell_type": "code",
   "execution_count": null,
   "id": "0aca0bff",
   "metadata": {},
   "outputs": [],
   "source": []
  },
  {
   "cell_type": "code",
   "execution_count": null,
   "id": "7aa8ec05",
   "metadata": {},
   "outputs": [],
   "source": [
    "Q11. Write a python program to implement replace method using loop. If\n",
    "sub_str is found in my_str then it will replace the first\n",
    "occurrence of sub_str with new_str else it will will print sub_str not\n",
    "found:-\n",
    "Input:- my_str = 'Peter Piper Picked A Peck Of Pickled Peppers.',\n",
    "sub_str = 'Peck', new_str = 'Pack'\n",
    "Output:- 'Peter Piper Picked A Pack Of Pickled Peppers.'"
   ]
  },
  {
   "cell_type": "code",
   "execution_count": null,
   "id": "744796c5",
   "metadata": {},
   "outputs": [],
   "source": [
    "Q12. Write a python program to find below output (implements rjust and\n",
    "ljust) using loop:-\n",
    "Input:- 'Peter Piper Picked A Peck Of Pickled Peppers.', sub_str =\n",
    "'Peck',\n",
    "Output:- '*********************Peck********************'"
   ]
  },
  {
   "cell_type": "code",
   "execution_count": null,
   "id": "c11c1727",
   "metadata": {},
   "outputs": [],
   "source": []
  },
  {
   "cell_type": "code",
   "execution_count": null,
   "id": "4901b42c",
   "metadata": {},
   "outputs": [],
   "source": [
    "Q13. Write a python program to find below output using loop:-\n",
    "Input:- 'This is Python class', sep = ' is',\n",
    "Output:- ['This', 'is', 'Python class'"
   ]
  }
 ],
 "metadata": {
  "kernelspec": {
   "display_name": "Python 3 (ipykernel)",
   "language": "python",
   "name": "python3"
  },
  "language_info": {
   "codemirror_mode": {
    "name": "ipython",
    "version": 3
   },
   "file_extension": ".py",
   "mimetype": "text/x-python",
   "name": "python",
   "nbconvert_exporter": "python",
   "pygments_lexer": "ipython3",
   "version": "3.11.4"
  }
 },
 "nbformat": 4,
 "nbformat_minor": 5
}

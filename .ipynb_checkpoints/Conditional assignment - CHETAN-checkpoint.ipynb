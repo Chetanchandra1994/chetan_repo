{
 "cells": [
  {
   "cell_type": "code",
   "execution_count": 1,
   "id": "060501cb",
   "metadata": {},
   "outputs": [],
   "source": [
    "# Q1. Write a program (W. A P.) which takes one number from 0 to 9 from the user and prints\n",
    "# it in the word. And if the word is not from 0 to 9 then\n",
    "# it should print that number is outside of the range and program should\n",
    "# exit.\n",
    "\n",
    "# For exapmple:-\n",
    "# input = 1\n",
    "# output = one"
   ]
  },
  {
   "cell_type": "code",
   "execution_count": 25,
   "id": "095407af",
   "metadata": {},
   "outputs": [
    {
     "name": "stdout",
     "output_type": "stream",
     "text": [
      "Enter a number from 0 to 9: 7\n",
      "Seven\n"
     ]
    }
   ],
   "source": [
    "#program\n",
    "\n",
    "#createing a dictionary of numbers and words\n",
    "number_word = {0:\"Zero\", 1:\"One\", 2:\"Two\", 3:\"Three\", 4:\"Four\", 5:\"Five\", 6:\"Six\", 7:\"Seven\", 8:\"Eight\", 9:\"Nine\"}\n",
    "\n",
    "#user input\n",
    "x = int(input(\"Enter a number from 0 to 9: \"))\n",
    "\n",
    "#condition\n",
    "if x in number_word.keys():\n",
    "    print(number_word[x])\n",
    "else:\n",
    "    print(\" Number out of range!!! Please enter a number from 0 to 9.\")\n",
    "    "
   ]
  },
  {
   "cell_type": "code",
   "execution_count": null,
   "id": "07fb6488",
   "metadata": {},
   "outputs": [],
   "source": []
  },
  {
   "cell_type": "code",
   "execution_count": 2,
   "id": "64819948",
   "metadata": {},
   "outputs": [],
   "source": [
    "# Q2. W. A P. to implement calculator but the operation to be done and two\n",
    "# numbers will be taken as input from user:-\n",
    "# Operation console should show below:-\n",
    "#  Please select any one operation from below:-\n",
    "#  * To add enter 1\n",
    "#  * To subtract enter 2\n",
    "#  * To multiply enter 3\n",
    "#  * To divide enter 4\n",
    "#  * To divide and find quotient enter 5\n",
    "#  * To divide and find remainder enter 6\n",
    "#  * To divide and find num1 to the power of num2 enter 7\n"
   ]
  },
  {
   "cell_type": "code",
   "execution_count": 43,
   "id": "22b5f512",
   "metadata": {},
   "outputs": [
    {
     "name": "stdout",
     "output_type": "stream",
     "text": [
      "Please select any one operation from below:-\n",
      "1. To add, enter 1\n",
      "2. To subtract, enter 2\n",
      "3. To multiply, enter 3\n",
      "4. To divide, enter 4\n",
      "5. To divide and find quotient, enter 5\n",
      "6. To divide and find remainder, enter 6\n",
      "7. To find num1 to the power of num2, enter 7\n",
      "Enter the operation number (1,2,3,4,5,6,7): 99\n",
      "Invalid operation numer. Please select a valid operation from (1,2,3,4,5,6,7).\n"
     ]
    }
   ],
   "source": [
    "#program\n",
    "\n",
    "#define functions to do arithmetic operations in calculator\n",
    "\n",
    "def add(a,b):\n",
    "    return a+b\n",
    "\n",
    "def sub(a,b):\n",
    "    return a-b\n",
    "\n",
    "def mul(a,b):\n",
    "    return a*b\n",
    "\n",
    "def div(a,b):\n",
    "    if b == 0:\n",
    "        return \"Division by zero is not allowed.\"\n",
    "    return a/b\n",
    "\n",
    "def rem(a,b):\n",
    "    if b == 0:\n",
    "        return \"Division by zero is not allowed.\"\n",
    "    return a%b\n",
    "          \n",
    "def quo(a,b):\n",
    "    if b == 0:\n",
    "        return \"Division by zero is not allowed.\"\n",
    "    return a//b\n",
    "        \n",
    "def exp(a,b):\n",
    "    return a**b\n",
    " \n",
    "##################################################################\n",
    "    \n",
    "# num1 = int(input(\"Enter the first number: \"))\n",
    "# num2 = int(input(\"Enter the second number: \"))\n",
    "# print(add(num1,num2))\n",
    "# print(sub(num1,num2))\n",
    "# print(mul(num1,num2))\n",
    "# print(div(num1,num2))\n",
    "# print(rem(num1,num2))\n",
    "# print(quo(num1,num2))\n",
    "# print(exp(num1,num2))\n",
    "\n",
    "##################################################################\n",
    "\n",
    "# Program to show Operation console \n",
    "\n",
    "print(\"Please select any one operation from below:-\")\n",
    "print(\"1. To add, enter 1\")\n",
    "print(\"2. To subtract, enter 2\")\n",
    "print(\"3. To multiply, enter 3\")\n",
    "print(\"4. To divide, enter 4\")\n",
    "print(\"5. To divide and find quotient, enter 5\")\n",
    "print(\"6. To divide and find remainder, enter 6\")\n",
    "print(\"7. To find num1 to the power of num2, enter 7\")\n",
    "\n",
    "#Getting user input on choice of operation\n",
    "\n",
    "operation = input(\"Enter the operation number (1,2,3,4,5,6,7): \")\n",
    "\n",
    "if operation in ('1', '2', '3', '4', '5', '6', '7'):\n",
    "    \n",
    "    num1 = int(input(\"Enter the first number: \"))\n",
    "    num2 = int(input(\"Enter the second number: \"))\n",
    "\n",
    "    if operation == '1':\n",
    "        print(\"Result:\", add(num1,num2))\n",
    "    elif operation == '2':\n",
    "        print(\"Result:\", sub(num1,num2))\n",
    "    elif operation == '3':\n",
    "        print(\"Result:\", mul(num1,num2))\n",
    "    elif operation == '4':\n",
    "        print(\"Result:\", div(num1,num2))\n",
    "    elif operation == '5':\n",
    "        print(\"Result:\", quo(num1,num2))\n",
    "    elif operation == '6':\n",
    "        print(\"Result:\", rem(num1,num2))\n",
    "    elif operation == '7':\n",
    "        print(\"Result:\", exp(num1,num2))\n",
    "else:\n",
    "    print(\"Invalid operation numer. Please select a valid operation from (1,2,3,4,5,6,7).\")"
   ]
  },
  {
   "cell_type": "code",
   "execution_count": null,
   "id": "a20b2f0f",
   "metadata": {},
   "outputs": [],
   "source": []
  },
  {
   "cell_type": "code",
   "execution_count": 3,
   "id": "063f81a4",
   "metadata": {},
   "outputs": [],
   "source": [
    "# Q3. W A P to check whether a year entered by user is an leap year or not?\n",
    "# Check with below input:-\n",
    "#  leap year:- 2012, 1968, 2004, 1200, 1600,2400\n",
    "#  Non-lear year:- 1971, 2006, 1700,1800,1900"
   ]
  },
  {
   "cell_type": "code",
   "execution_count": 64,
   "id": "2cd14810",
   "metadata": {},
   "outputs": [
    {
     "name": "stdout",
     "output_type": "stream",
     "text": [
      "Enter a year: 2000\n",
      "(2000 is a leap year)\n",
      "None\n"
     ]
    }
   ],
   "source": [
    "#  leap year:- 2012, 1968, 2004, 1200, 1600,2400\n",
    "#  Non-lear year:- 1971, 2006, 1700,1800,1900\n",
    "\n",
    "#solution 1 by defining function:\n",
    "\n",
    "def leap_year(x):\n",
    "    # Condition for a leap year\n",
    "    if (x % 4 == 0 and x % 100 != 0) or (x  % 400 == 0):\n",
    "        print(f\"({x} is a leap year)\")\n",
    "    else:\n",
    "        print(f\"({x} is not a leap year)\")\n",
    "\n",
    "user_input = int(input(\"Enter a year: \"))\n",
    "\n",
    "print(leap_year(user_input))"
   ]
  },
  {
   "cell_type": "code",
   "execution_count": 66,
   "id": "9b377d82",
   "metadata": {},
   "outputs": [
    {
     "name": "stdout",
     "output_type": "stream",
     "text": [
      "Enter a year: 2000\n",
      "2000 is a leap year.\n"
     ]
    }
   ],
   "source": [
    "#solution 2 by just if, else:\n",
    "\n",
    "# Get user input for the year\n",
    "year = int(input(\"Enter a year: \"))\n",
    "\n",
    "# Condition for a leap year\n",
    "if (year % 4 == 0 and year % 100 != 0) or (year % 400 == 0):\n",
    "    print(f\"{year} is a leap year.\")\n",
    "    \n",
    "else:\n",
    "    print(f\"{year} is not a leap year.\")\n"
   ]
  },
  {
   "cell_type": "code",
   "execution_count": 4,
   "id": "6a118086",
   "metadata": {},
   "outputs": [],
   "source": [
    "# Q4. W A P which takes one number from the user and checks whether it is\n",
    "# an even or odd number?, If it even then prints number is\n",
    "# even number else prints that number is odd number.\n"
   ]
  },
  {
   "cell_type": "code",
   "execution_count": 68,
   "id": "57bb7f17",
   "metadata": {},
   "outputs": [
    {
     "name": "stdout",
     "output_type": "stream",
     "text": [
      "Enter a number: 99\n",
      "99 is an odd number\n"
     ]
    }
   ],
   "source": [
    "#Program\n",
    "\n",
    "num = int(input(\"Enter a number: \"))\n",
    "\n",
    "if num % 2 == 0:\n",
    "    print(f\"{num} is an even number\")\n",
    "else:\n",
    "    print(f\"{num} is an odd number\")"
   ]
  },
  {
   "cell_type": "code",
   "execution_count": 5,
   "id": "2058bb35",
   "metadata": {},
   "outputs": [],
   "source": [
    "# Q5. W A P which takes two numbers from the user and prints below output:-\n",
    "#  1. num1 is greater than num2 if num1 is greater than num2\n",
    "#  2. num1 is smaller than num2 if num1 is smaller than num2\n",
    "#  3. num1 is equal to num2 if num1 and num2 are equal\n",
    "\n",
    "# Note:- 1. Do this problem using if - else\n",
    "#  2. Do this using ternary operator"
   ]
  },
  {
   "cell_type": "code",
   "execution_count": 71,
   "id": "94f8d1cc",
   "metadata": {},
   "outputs": [
    {
     "name": "stdout",
     "output_type": "stream",
     "text": [
      "Enter the first number: 7\n",
      "Enter the second number: 2\n",
      "7 is greater than 2\n"
     ]
    }
   ],
   "source": [
    "#Program1 using if - else\n",
    "\n",
    "num1 = int(input(\"Enter the first number: \"))\n",
    "num2 = int(input(\"Enter the second number: \"))\n",
    "\n",
    "if num1 > num2:\n",
    "    print(f\"{num1} is greater than {num2}\")\n",
    "    \n",
    "elif num1 < num2:\n",
    "    print(f\"{num1} is smaller than {num2}\")\n",
    "    \n",
    "elif num1 == num2:\n",
    "    print(f\"{num1} is equal to {num2}\")"
   ]
  },
  {
   "cell_type": "code",
   "execution_count": 72,
   "id": "5f066f10",
   "metadata": {},
   "outputs": [
    {
     "name": "stdout",
     "output_type": "stream",
     "text": [
      "Enter the first number: 5\n",
      "Enter the second number: 8\n",
      "num1 is smaller than num2\n"
     ]
    }
   ],
   "source": [
    "#Program1 using ternary operator\n",
    "num1 = int(input(\"Enter the first number: \"))\n",
    "num2 = int(input(\"Enter the second number: \"))\n",
    "\n",
    "output = (\n",
    "    \"num1 is greater than num2\" if num1 > num2\n",
    "    else \"num1 is smaller than num2\" if num1 < num2\n",
    "    else \"num1 is equal to num2\"\n",
    ")\n",
    "print(output)"
   ]
  },
  {
   "cell_type": "code",
   "execution_count": 6,
   "id": "c760a678",
   "metadata": {},
   "outputs": [],
   "source": [
    "# Q6. W A P which takes three numbers from the user and prints below\n",
    "# output:-\n",
    "#  1. num1 is greater than num2 and num3 if num1 is greater than num2\n",
    "# and num3\n",
    "#  2. num2 is greater than num1 and num3 if num2 is greater than num1\n",
    "# and num3\n",
    "#  3. num3 is greater than num1 and num2 if num3 is greater than num1\n",
    "# and num2\n",
    "\n",
    "# Note:- 1. Do this problem using if - elif - else\n",
    "#  2. Do this using ternary operator\n",
    "# a = a if a>b else b\n"
   ]
  },
  {
   "cell_type": "code",
   "execution_count": 73,
   "id": "73377829",
   "metadata": {},
   "outputs": [
    {
     "name": "stdout",
     "output_type": "stream",
     "text": [
      "Enter the first number: 1\n",
      "Enter the second number: 2\n",
      "Enter the third number: 3\n",
      "3 is greater than 1 and 2\n"
     ]
    }
   ],
   "source": [
    "#Program1 using if - else\n",
    "\n",
    "num1 = int(input(\"Enter the first number: \"))\n",
    "num2 = int(input(\"Enter the second number: \"))\n",
    "num3 = int(input(\"Enter the third number: \"))\n",
    "\n",
    "if num1 > num2 and num1 > num3:\n",
    "    print(f\"{num1} is greater than {num2} and {num3}\")\n",
    "    \n",
    "elif num2 > num1 and num2 > num3:\n",
    "    print(f\"{num2} is greater than {num2} and {num3}\")\n",
    "    \n",
    "elif num3 > num1 and num3 > num2:\n",
    "    print(f\"{num3} is greater than {num1} and {num2}\")"
   ]
  },
  {
   "cell_type": "code",
   "execution_count": 76,
   "id": "66e05ef9",
   "metadata": {},
   "outputs": [
    {
     "name": "stdout",
     "output_type": "stream",
     "text": [
      "Enter the first number: 1\n",
      "Enter the second number: 2\n",
      "Enter the third number: 3\n",
      "num3 is greater than num1 and num2\n"
     ]
    }
   ],
   "source": [
    "#Program1 using ternary operator\n",
    "\n",
    "# a = a if a>b else b\n",
    "\n",
    "num1 = int(input(\"Enter the first number: \"))\n",
    "num2 = int(input(\"Enter the second number: \"))\n",
    "num3 = int(input(\"Enter the third number: \"))\n",
    "\n",
    "\n",
    "output = (\n",
    "\n",
    "    \"num1 is greater than num2 and num3\" if num1>num2 and num1>num3\n",
    "    else \"num2 is greater than num1 and num3\" if num2>num1 and num2>num3\n",
    "    else \"num3 is greater than num1 and num2\" \n",
    ")\n",
    "\n",
    "print(output)"
   ]
  },
  {
   "cell_type": "code",
   "execution_count": null,
   "id": "42e2a775",
   "metadata": {},
   "outputs": [],
   "source": []
  },
  {
   "cell_type": "code",
   "execution_count": null,
   "id": "8d98197b",
   "metadata": {},
   "outputs": [],
   "source": []
  }
 ],
 "metadata": {
  "kernelspec": {
   "display_name": "Python 3 (ipykernel)",
   "language": "python",
   "name": "python3"
  },
  "language_info": {
   "codemirror_mode": {
    "name": "ipython",
    "version": 3
   },
   "file_extension": ".py",
   "mimetype": "text/x-python",
   "name": "python",
   "nbconvert_exporter": "python",
   "pygments_lexer": "ipython3",
   "version": "3.11.4"
  }
 },
 "nbformat": 4,
 "nbformat_minor": 5
}

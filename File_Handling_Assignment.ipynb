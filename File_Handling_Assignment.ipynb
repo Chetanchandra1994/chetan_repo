{
 "cells": [
  {
   "cell_type": "code",
   "execution_count": 4,
   "metadata": {},
   "outputs": [],
   "source": [
    "# Write a function in python to read the content from \n",
    "# a text file \"poem.txt\" line by line and display the same on screen.\n",
    "# Create a file \"poem.txt\" with some content\n"
   ]
  },
  {
   "cell_type": "code",
   "execution_count": 5,
   "metadata": {},
   "outputs": [
    {
     "name": "stdout",
     "output_type": "stream",
     "text": [
      "This is a beautiful poem.\n",
      "It has multiple lines.\n",
      "Python makes file handling easy.\n",
      "\n"
     ]
    }
   ],
   "source": [
    "# First create a file named \"poem.txt\" and write some content to it\n",
    "\n",
    "def create_and_display_file():     \n",
    "    with open(\"poem.txt\", \"wt\") as file:\n",
    "        file.write(\"This is a beautiful poem.\\n\")\n",
    "        file.write(\"It has multiple lines.\\n\")\n",
    "        file.write(\"Python makes file handling easy.\\n\")\n",
    "\n",
    "# Now read contents from the created file poem.txt\n",
    "\n",
    "    with open(\"poem.txt\", \"rt\") as file:\n",
    "        contents = file.read()\n",
    "        print(contents)\n",
    "\n",
    "# Call the function\n",
    "create_and_display_file()\n"
   ]
  },
  {
   "cell_type": "code",
   "execution_count": 13,
   "metadata": {},
   "outputs": [
    {
     "name": "stdout",
     "output_type": "stream",
     "text": [
      "This is a beautiful poem.\n",
      "It has multiple lines.\n",
      "Python makes file handling easy.\n",
      "\n"
     ]
    }
   ],
   "source": [
    "with open(\"poem.txt\", \"rt\") as fh:\n",
    "    contents = fh.read()\n",
    "    print(contents)"
   ]
  },
  {
   "cell_type": "code",
   "execution_count": null,
   "metadata": {},
   "outputs": [],
   "source": [
    "# Write a function in python to count the number of lines \n",
    "# from a text file \"story.txt\" which is not starting with an alphabet \"T\". \n",
    "\n",
    "# Example: If the file \"story.txt\" contains the following lines: A boy is playing there.\n",
    "# There is a playground.\n",
    "# An aeroplane is in the sky.\n",
    "# The sky is pink.\n",
    "# Alphabets and numbers are allowed in the password.\n",
    "# The function should display the output as 3"
   ]
  },
  {
   "cell_type": "code",
   "execution_count": 11,
   "metadata": {},
   "outputs": [
    {
     "name": "stdout",
     "output_type": "stream",
     "text": [
      "No of lines not starting with 'T'= 3\n"
     ]
    }
   ],
   "source": [
    "# First create a file named \"story.txt\" and write content \n",
    "\n",
    "with open(\"story.txt\", \"wt\") as file:\n",
    "        file.write(\"A boy is playing there.\\n\")\n",
    "        file.write(\"There is a playground.\\n\")\n",
    "        file.write(\"An aeroplane is in the sky.\\n\")\n",
    "        file.write(\"The sky is pink.\\n\")\n",
    "        file.write(\"Alphabets and numbers are allowed in the password.\\n\")\n",
    "\n",
    "# Write a function to count the number of lines in story.txt which is not starting with an alphabet \"T\"\n",
    "\n",
    "def line_count():\n",
    "    file = open(\"story.txt\",\"rt\")\n",
    "    count=0\n",
    "    for i in file:\n",
    "        if i[0] != 'T':\n",
    "            count+= 1\n",
    "    file.close()\n",
    "    print(\"No of lines not starting with 'T'=\",count)\n",
    "\n",
    "line_count()"
   ]
  },
  {
   "cell_type": "code",
   "execution_count": null,
   "metadata": {},
   "outputs": [],
   "source": [
    "# Write a function in Python to count and display the total number of words in a text file."
   ]
  },
  {
   "cell_type": "code",
   "execution_count": 19,
   "metadata": {},
   "outputs": [
    {
     "name": "stdout",
     "output_type": "stream",
     "text": [
      "54\n"
     ]
    }
   ],
   "source": [
    "def count_display():\n",
    "    file = open(\"new_file.txt\", \"rt\")\n",
    "    lines = file.read()\n",
    "    word = lines.split()\n",
    "    print(len(word))\n",
    "    \n",
    "count_display()"
   ]
  },
  {
   "cell_type": "code",
   "execution_count": null,
   "metadata": {},
   "outputs": [],
   "source": [
    "# Write a function in Python to read lines from a text file \"notes.txt\". \n",
    "# Your function should find and display the occurrence of the word \"the\".\n",
    "\n",
    "# For example: If the content of the file is:\n",
    "# \"India is the fastest-growing economy. India is looking for more investments around the globe. The whole world is looking at India as a great market. Most of the Indians can foresee the heights that India is capable of reaching.\"\n",
    "\n",
    "# The output should be 5."
   ]
  },
  {
   "cell_type": "code",
   "execution_count": 1,
   "metadata": {},
   "outputs": [
    {
     "name": "stdout",
     "output_type": "stream",
     "text": [
      "5\n"
     ]
    }
   ],
   "source": [
    "import re\n",
    "def read_lines_from_text_file():\n",
    "    fh= open(\"notes.txt\", \"rt\")\n",
    "    contents = fh.read()\n",
    "    pattern = r'the|The'\n",
    "    match = re.findall(pattern,contents)\n",
    "    print(len(match))\n",
    "\n",
    "read_lines_from_text_file()"
   ]
  },
  {
   "cell_type": "code",
   "execution_count": null,
   "metadata": {},
   "outputs": [],
   "source": [
    "# Write a function display_words() in python to read lines from a text file \"story.txt\", \n",
    "# and display those words, which are less than 4 characters."
   ]
  },
  {
   "cell_type": "code",
   "execution_count": 28,
   "metadata": {},
   "outputs": [
    {
     "name": "stdout",
     "output_type": "stream",
     "text": [
      "A\n",
      "boy\n",
      "is\n",
      "is\n",
      "a\n",
      "An\n",
      "is\n",
      "in\n",
      "the\n",
      "The\n",
      "sky\n",
      "is\n",
      "and\n",
      "are\n",
      "in\n",
      "the\n"
     ]
    }
   ],
   "source": [
    "def display_words():\n",
    "    fh= open(\"story.txt\", \"rt\")\n",
    "    contents = fh.read()\n",
    "    words = contents.split()\n",
    "    for i in words:\n",
    "        if len(i) < 4:\n",
    "            print(i)\n",
    "    \n",
    "display_words()"
   ]
  },
  {
   "cell_type": "code",
   "execution_count": null,
   "metadata": {},
   "outputs": [],
   "source": [
    "# Write a function in Python to count the words \"this\" and \"these\" present in a text file \"article.txt\". \n",
    "# [Note that the words \"this\" and \"these\" are complete words] "
   ]
  },
  {
   "cell_type": "code",
   "execution_count": 8,
   "metadata": {},
   "outputs": [
    {
     "name": "stdout",
     "output_type": "stream",
     "text": [
      "['this', 'these', 'this', 'these']\n",
      "4\n"
     ]
    }
   ],
   "source": [
    "def count_words():\n",
    "    fh= open(\"article.txt\", \"rt\")\n",
    "    contents = fh.read()\n",
    "    pattern = r'this|these'\n",
    "    match = re.findall(pattern,contents)\n",
    "    print(match)\n",
    "    print(len(match))\n",
    "\n",
    "count_words()"
   ]
  },
  {
   "cell_type": "code",
   "execution_count": 19,
   "metadata": {},
   "outputs": [
    {
     "name": "stdout",
     "output_type": "stream",
     "text": [
      "this\n",
      "these\n",
      "this\n",
      "these\n",
      "4\n"
     ]
    }
   ],
   "source": [
    "def count_words():\n",
    "    fh = open(\"article.txt\",\"rt\")\n",
    "    contents = fh.read()\n",
    "    count = 0\n",
    "    words = contents.split()\n",
    "    for i in words:\n",
    "        if i == 'this' or i =='these':\n",
    "            count+=1\n",
    "            print(i)\n",
    "    print(count)\n",
    "    fh.close()\n",
    "\n",
    "count_words()"
   ]
  },
  {
   "cell_type": "code",
   "execution_count": 4,
   "metadata": {},
   "outputs": [],
   "source": [
    "# Write a function in Python to count words in a text file those are ending with alphabet \"e\""
   ]
  },
  {
   "cell_type": "code",
   "execution_count": 30,
   "metadata": {},
   "outputs": [
    {
     "name": "stdout",
     "output_type": "stream",
     "text": [
      "Words ending with 'e': ['these', 'please', 'provide', 'the', 'like', 'include', 'the', 'me', 'the', 'more', 'these', 'where', 'These', 'like', 'the', 'breeze', 'ease', 'the', 'Where', 'have', 'wide', 'These', 'reside', 'dance', 'time', 'These', 'silence', 'where', 'hide', 'These', 'the', 'language', 'the', 'tide', 'These', 'like', 'me', 'rhyme', 'the', 'time']\n",
      "Count: 40\n"
     ]
    }
   ],
   "source": [
    "import re\n",
    "\n",
    "def count_words():\n",
    "    with open(\"article.txt\", \"rt\") as fh:\n",
    "        contents = fh.read()\n",
    "        # Using the alphanumeric \\w and boundary \\b\n",
    "        pattern = r'\\b\\w+e\\b'\n",
    "        matches = re.findall(pattern, contents)\n",
    "            \n",
    "        print(\"Words ending with 'e':\", matches)\n",
    "        print(\"Count:\", len(matches))\n",
    "  \n",
    "count_words()"
   ]
  },
  {
   "cell_type": "code",
   "execution_count": 39,
   "metadata": {},
   "outputs": [
    {
     "name": "stdout",
     "output_type": "stream",
     "text": [
      "30\n"
     ]
    }
   ],
   "source": [
    "def count_words():\n",
    "    with open(\"article.txt\", \"rt\") as fh:\n",
    "        contents = fh.read()\n",
    "        count = 0\n",
    "        words = contents.split()\n",
    "        for word in words:\n",
    "            if word[-1] == 'e':\n",
    "                count+=1\n",
    "#                print(word)\n",
    "        print(count)\n",
    "        fh.close()\n",
    "\n",
    "count_words()"
   ]
  },
  {
   "cell_type": "code",
   "execution_count": null,
   "metadata": {},
   "outputs": [],
   "source": [
    "# Write a function in Python to count uppercase character in a text file."
   ]
  },
  {
   "cell_type": "code",
   "execution_count": 27,
   "metadata": {},
   "outputs": [
    {
     "name": "stdout",
     "output_type": "stream",
     "text": [
      "Uppercase characters: ['C', 'C', 'T', 'I', 'T', 'T', 'A', 'T', 'W', 'T', 'T', 'T', 'T', 'T', 'T', 'I', 'T', 'T', 'A', 'T', 'T']\n",
      "Count: 21\n"
     ]
    }
   ],
   "source": [
    "import re\n",
    "\n",
    "def count_words():\n",
    "    with open(\"article.txt\", \"rt\") as fh:\n",
    "        contents = fh.read()\n",
    "       \n",
    "        pattern = r'[A-Z]'\n",
    "        matches = re.findall(pattern, contents)\n",
    "            \n",
    "        print(\"Uppercase characters:\", matches)\n",
    "        print(\"Count:\", len(matches))\n",
    "  \n",
    "count_words()"
   ]
  },
  {
   "cell_type": "code",
   "execution_count": 37,
   "metadata": {},
   "outputs": [
    {
     "name": "stdout",
     "output_type": "stream",
     "text": [
      "21\n"
     ]
    }
   ],
   "source": [
    "\n",
    "def count_uppercase():\n",
    "    fh = open(\"article.txt\",\"rt\")\n",
    "    contents = fh.read()\n",
    "    count = 0\n",
    "    for letter in contents:\n",
    "        if letter.isupper():\n",
    "            count+=1\n",
    " #          print(letter)\n",
    "    print(count)\n",
    "    fh.close()\n",
    "\n",
    "count_uppercase()"
   ]
  },
  {
   "cell_type": "code",
   "execution_count": null,
   "metadata": {},
   "outputs": [],
   "source": [
    "# A text file named \"matter.txt\" contains some text, which needs to be displayed such that \n",
    "# every next character is separated by a symbol \"#\". \n",
    "# Write a function definition for hash_display() in Python that would display \n",
    "# the entire content of the file matter.txt in the desired format.\n",
    "\n",
    "# Example :\n",
    "# If the file matter.txt has the following content stored in it :\n",
    "# THE WORLD IS ROUND\n",
    "\n",
    "# The function hash_display() should display the following content :\n",
    "# T#H#E# #W#O#R#L#D# #I#S# #R#O#U#N#D#"
   ]
  },
  {
   "cell_type": "code",
   "execution_count": 40,
   "metadata": {},
   "outputs": [
    {
     "name": "stdout",
     "output_type": "stream",
     "text": [
      "T#H#E# #W#O#R#L#D# #I#S# #R#O#U#N#D#"
     ]
    }
   ],
   "source": [
    "\n",
    "def format_hash():\n",
    "    fh = open(\"matter.txt\",\"rt\")\n",
    "    contents = fh.read()\n",
    "    for words in contents:\n",
    "        print(words, end=\"#\")\n",
    "\n",
    "    fh.close()\n",
    "\n",
    "format_hash()"
   ]
  },
  {
   "cell_type": "code",
   "execution_count": null,
   "metadata": {},
   "outputs": [],
   "source": [
    "# Aditi has used a text editing software to type some text. After saving the article as WORDS.TXT, \n",
    "# she realised that she has wrongly typed alphabet J in place of alphabet I everywhere in the article.\n",
    "# Write a function definition for JTOI() in Python that would display the corrected version of entire content \n",
    "# of the file WORDS.TXT with all the alphabets \"J\" to be displayed as an alphabet \"I\" on screen.\n",
    "\n",
    "# Note: Assuming that WORD.TXT does not contain any J alphabet otherwise.\n",
    "\n",
    "# Example:\n",
    "# If Aditi has stored the following content in the file WORDS.TXT:\n",
    "# WELL, THJS JS A WORD BY JTSELF. YOU COULD STRETCH THJS TO BE A SENTENCE\n",
    "# The function JTOI() should display the following content:\n",
    "# WELL, THIS IS A WORD BY ITSELF. YOU COULD STRETCH THIS TO BE A SENTENCE"
   ]
  },
  {
   "cell_type": "code",
   "execution_count": 43,
   "metadata": {},
   "outputs": [
    {
     "name": "stdout",
     "output_type": "stream",
     "text": [
      "WELL, THIS IS A WORD BY ITSELF. YOU COULD STRETCH THIS TO BE A SENTENCE\n"
     ]
    }
   ],
   "source": [
    "import re\n",
    "\n",
    "def JTOI():\n",
    "    with open(\"WORDS.TXT\", \"rt\") as fh:\n",
    "        contents = fh.read()\n",
    "       \n",
    "        modified_contents = re.sub(r'J', 'I', contents)\n",
    "        print(modified_contents)\n",
    "  \n",
    "JTOI()"
   ]
  },
  {
   "cell_type": "code",
   "execution_count": 45,
   "metadata": {},
   "outputs": [
    {
     "name": "stdout",
     "output_type": "stream",
     "text": [
      "WELL, THIS IS A WORD BY ITSELF. YOU COULD STRETCH THIS TO BE A SENTENCE\n"
     ]
    }
   ],
   "source": [
    "\n",
    "def JTOI():\n",
    "    with open(\"WORDS.TXT\", \"rt\") as fh:\n",
    "        contents = fh.read()\n",
    "       \n",
    "        modified_contents = contents.replace(\"J\", \"I\")\n",
    "        print(modified_contents)\n",
    "  \n",
    "JTOI()"
   ]
  },
  {
   "cell_type": "code",
   "execution_count": null,
   "metadata": {},
   "outputs": [],
   "source": [
    "# Write a function AMCount() in Python, which should read each character of a text file STORY.TXT, \n",
    "# should count and display the occurance of alphabets A and M (including small cases a and m too).\n",
    "# For Example:\n",
    "# If the file content is as follows:\n",
    "# Updated information\n",
    "# As simplified by official websites.\n",
    "# The EUCount() function should display the output as:\n",
    "# A or a:4\n",
    "# M or m :2"
   ]
  },
  {
   "cell_type": "code",
   "execution_count": 7,
   "metadata": {},
   "outputs": [
    {
     "name": "stdout",
     "output_type": "stream",
     "text": [
      "A or a: 4\n",
      "M or m: 2\n"
     ]
    }
   ],
   "source": [
    "def AMCount():\n",
    "    fh = open(\"STORY.TXT2\",\"rt\")\n",
    "    contents = fh.read()\n",
    "    counta=0\n",
    "    countm=0\n",
    "    for i in contents:\n",
    "        if i == 'A' or i =='a':\n",
    "            counta += 1\n",
    "        elif i == 'M' or i =='m':\n",
    "            countm += 1\n",
    "\n",
    "    fh.close()\n",
    "    \n",
    "    print('A or a:',counta)\n",
    "    print('M or m:',countm)\n",
    "\n",
    "AMCount()"
   ]
  },
  {
   "cell_type": "code",
   "execution_count": null,
   "metadata": {},
   "outputs": [],
   "source": [
    "# A binary file \"Book.dat\" has structure [BookNo, Book_Name, Author, Price].\n",
    "# i. Write a user defined function createFile() to input data for a record and add to Book.dat.\n",
    "# ii. Write a function countRec(Author) in Python which accepts the Author name as parameter \n",
    "# and count and return number of books by the given Author are stored in the binary file \"Book.dat\""
   ]
  },
  {
   "cell_type": "code",
   "execution_count": null,
   "metadata": {},
   "outputs": [],
   "source": []
  },
  {
   "cell_type": "code",
   "execution_count": null,
   "metadata": {},
   "outputs": [],
   "source": [
    "# A binary file \"STUDENT.DAT\" has structure (admission_number, Name, Percentage). \n",
    "# Write a function count_rec() in Python that would read contents of the file \"STUDENT.DAT\" \n",
    "# and display the details of those students whose percentage is above 75. \n",
    "# Also display number of students scoring above 75%"
   ]
  },
  {
   "cell_type": "code",
   "execution_count": null,
   "metadata": {},
   "outputs": [],
   "source": []
  },
  {
   "cell_type": "code",
   "execution_count": null,
   "metadata": {},
   "outputs": [],
   "source": [
    "# Given a binary file employee.dat, created using dictionary object having keys: (empcode, name, and salary)\n",
    "\n",
    "# Write a python function that add one more record at the end of file.\n",
    "# Write a python function that display all employee records whose salary is more that 30000\n"
   ]
  },
  {
   "cell_type": "code",
   "execution_count": null,
   "metadata": {},
   "outputs": [],
   "source": []
  },
  {
   "cell_type": "code",
   "execution_count": null,
   "metadata": {},
   "outputs": [],
   "source": [
    "# Write a function to search and display details of student whose rollno is '1005' \n",
    "# from the binary file student.dat having structure [rollno, name, class and fees]."
   ]
  },
  {
   "cell_type": "code",
   "execution_count": null,
   "metadata": {},
   "outputs": [],
   "source": []
  },
  {
   "cell_type": "code",
   "execution_count": null,
   "metadata": {},
   "outputs": [],
   "source": [
    "# A binary file school.dat has structure(rollno, name, class, fees)\n",
    "\n",
    "# Write a definition for function total_fees( ) that reads each object of file and calculate \n",
    "# the total fees of students and display the same."
   ]
  },
  {
   "cell_type": "code",
   "execution_count": null,
   "metadata": {},
   "outputs": [],
   "source": []
  },
  {
   "cell_type": "code",
   "execution_count": null,
   "metadata": {},
   "outputs": [],
   "source": [
    "# A binary file players.dat, containing records of following list format: [code, name, country and total runs]\n",
    "\n",
    "# 1. Write a python function that display all records where player name starts from 'A'\n",
    "# 2. Write a python function that accept country as an argument and count and display \n",
    "#     the number of players of that country.\n",
    "# 3. Write a python function that add one record at the end of file."
   ]
  },
  {
   "cell_type": "code",
   "execution_count": null,
   "metadata": {},
   "outputs": [],
   "source": []
  },
  {
   "cell_type": "code",
   "execution_count": 1,
   "metadata": {
    "ExecuteTime": {
     "end_time": "2021-05-29T10:46:59.140338Z",
     "start_time": "2021-05-29T10:46:59.135100Z"
    }
   },
   "outputs": [],
   "source": [
    "# Given a binary file game.dat, containing records of following list format: [game_name, participants]\n",
    "\n",
    "# Write a function in Python that would read contents from the file game.dat and \n",
    "# creates a file named basket.dat copying only those records from game.dat where the game name is \"Basket Ball\""
   ]
  },
  {
   "cell_type": "code",
   "execution_count": null,
   "metadata": {},
   "outputs": [],
   "source": []
  }
 ],
 "metadata": {
  "kernelspec": {
   "display_name": "Python 3 (ipykernel)",
   "language": "python",
   "name": "python3"
  },
  "language_info": {
   "codemirror_mode": {
    "name": "ipython",
    "version": 3
   },
   "file_extension": ".py",
   "mimetype": "text/x-python",
   "name": "python",
   "nbconvert_exporter": "python",
   "pygments_lexer": "ipython3",
   "version": "3.11.4"
  }
 },
 "nbformat": 4,
 "nbformat_minor": 2
}
